{
 "cells": [
  {
   "cell_type": "code",
   "execution_count": 1,
   "metadata": {
    "ExecuteTime": {
     "end_time": "2022-06-13T17:40:43.087610Z",
     "start_time": "2022-06-13T17:40:43.085612Z"
    }
   },
   "outputs": [],
   "source": [
    "import numpy as np"
   ]
  },
  {
   "cell_type": "code",
   "execution_count": 2,
   "metadata": {
    "ExecuteTime": {
     "end_time": "2022-06-13T17:41:04.557762Z",
     "start_time": "2022-06-13T17:41:04.551762Z"
    }
   },
   "outputs": [
    {
     "data": {
      "text/plain": [
       "array([[0.22910279, 0.34673557, 0.01944559, 0.10704303, 0.08431606],\n",
       "       [0.74579569, 0.13690577, 0.13993884, 0.70771611, 0.27893311],\n",
       "       [0.3119672 , 0.09589592, 0.27188242, 0.68133389, 0.30462531],\n",
       "       [0.35523036, 0.32191795, 0.19829371, 0.0896173 , 0.95154404],\n",
       "       [0.0428319 , 0.35352113, 0.01416589, 0.7208253 , 0.57047739]])"
      ]
     },
     "execution_count": 2,
     "metadata": {},
     "output_type": "execute_result"
    }
   ],
   "source": [
    "arr = np.random.rand(5,5)\n",
    "arr"
   ]
  },
  {
   "cell_type": "markdown",
   "metadata": {},
   "source": [
    "### element-wise addition, subtraction, multiplication and division"
   ]
  },
  {
   "cell_type": "code",
   "execution_count": 5,
   "metadata": {
    "ExecuteTime": {
     "end_time": "2022-06-13T17:41:24.438784Z",
     "start_time": "2022-06-13T17:41:24.433782Z"
    }
   },
   "outputs": [
    {
     "name": "stdout",
     "output_type": "stream",
     "text": [
      "[[10.99204921 10.33625988 10.76229726 10.30708472 10.28396832]\n",
      " [10.32325601 10.22808624 10.33798978 10.72966829 10.8433241 ]\n",
      " [10.65950852 10.46515341 10.97456116 10.73793109 10.53941794]\n",
      " [10.8731549  10.46222255 10.82816284 10.34286939 10.85861382]\n",
      " [10.10430531 10.46060853 10.06960882 10.1897318  10.31496808]]\n",
      "\n",
      "[[-9.00795079 -9.66374012 -9.23770274 -9.69291528 -9.71603168]\n",
      " [-9.67674399 -9.77191376 -9.66201022 -9.27033171 -9.1566759 ]\n",
      " [-9.34049148 -9.53484659 -9.02543884 -9.26206891 -9.46058206]\n",
      " [-9.1268451  -9.53777745 -9.17183716 -9.65713061 -9.14138618]\n",
      " [-9.89569469 -9.53939147 -9.93039118 -9.8102682  -9.68503192]]\n",
      "\n",
      "[[9.92049213 3.36259884 7.62297262 3.07084718 2.83968321]\n",
      " [3.23256011 2.28086238 3.37989779 7.29668285 8.43324097]\n",
      " [6.59508521 4.65153411 9.74561156 7.37931088 5.39417937]\n",
      " [8.73154903 4.62222547 8.28162841 3.42869393 8.58613821]\n",
      " [1.04305312 4.60608527 0.69608816 1.89731802 3.14968081]]\n",
      "\n",
      "[[0.09920492 0.03362599 0.07622973 0.03070847 0.02839683]\n",
      " [0.0323256  0.02280862 0.03379898 0.07296683 0.08433241]\n",
      " [0.06595085 0.04651534 0.09745612 0.07379311 0.05394179]\n",
      " [0.08731549 0.04622225 0.08281628 0.03428694 0.08586138]\n",
      " [0.01043053 0.04606085 0.00696088 0.01897318 0.03149681]]\n"
     ]
    }
   ],
   "source": [
    "print(arr + 10)\n",
    "print()\n",
    "print(arr - 10)\n",
    "print()\n",
    "print(arr * 10)\n",
    "print()\n",
    "print(arr / 10)"
   ]
  },
  {
   "cell_type": "code",
   "execution_count": 6,
   "metadata": {
    "ExecuteTime": {
     "end_time": "2022-06-13T17:42:06.164339Z",
     "start_time": "2022-06-13T17:42:06.160339Z"
    }
   },
   "outputs": [
    {
     "name": "stdout",
     "output_type": "stream",
     "text": [
      "[ 9 11 13]\n",
      "[ 7 10  1]\n",
      "[ 7 20  3]\n"
     ]
    }
   ],
   "source": [
    "# the above operations can be performed using numpy built-in functions\n",
    "# which can save memory as the output can be stored in the original array rather than assigning new memory\n",
    "arr1 = np.array([1,2,3])\n",
    "x = np.add(arr1, [8,9,10], out=arr1)\n",
    "print(arr1)\n",
    "\n",
    "np.subtract(arr1, [2,1,12], out=arr1)\n",
    "print(arr1)\n",
    "\n",
    "np.multiply(arr1, [1,2,3], out=arr1)\n",
    "print(arr1)"
   ]
  },
  {
   "cell_type": "markdown",
   "metadata": {},
   "source": [
    "### element-wise exponentiation"
   ]
  },
  {
   "cell_type": "code",
   "execution_count": 7,
   "metadata": {
    "ExecuteTime": {
     "end_time": "2022-06-13T17:42:11.015293Z",
     "start_time": "2022-06-13T17:42:11.012291Z"
    }
   },
   "outputs": [
    {
     "name": "stdout",
     "output_type": "stream",
     "text": [
      "[[2.69675504 1.39970274 2.14319405 1.35945613 1.32839085]\n",
      " [1.38161902 1.25619365 1.40212617 2.07439239 2.32407962]\n",
      " [1.93384166 1.59225844 2.65000402 2.09160369 1.71500833]\n",
      " [2.39445322 1.58759858 2.28910942 1.40898473 2.3598872 ]\n",
      " [1.10993928 1.58503823 1.07208872 1.20892532 1.37021557]]\n"
     ]
    }
   ],
   "source": [
    "print(np.exp(arr))"
   ]
  },
  {
   "cell_type": "markdown",
   "metadata": {},
   "source": [
    "### element-wise logorithm"
   ]
  },
  {
   "cell_type": "code",
   "execution_count": 8,
   "metadata": {
    "ExecuteTime": {
     "end_time": "2022-06-13T17:42:21.874214Z",
     "start_time": "2022-06-13T17:42:21.870213Z"
    }
   },
   "outputs": [
    {
     "name": "stdout",
     "output_type": "stream",
     "text": [
      "[[-0.00798256 -1.08987095 -0.27141869 -1.18063162 -1.25889259]\n",
      " [-1.12931067 -1.47803148 -1.08473962 -0.31516525 -0.17040394]\n",
      " [-0.41626039 -0.76538801 -0.02576801 -0.30390484 -0.61726462]\n",
      " [-0.1356423  -0.7717088  -0.18854548 -1.07040568 -0.15243603]\n",
      " [-2.26043299 -0.77520678 -2.66486406 -1.66214377 -1.15528398]]\n"
     ]
    }
   ],
   "source": [
    "# natural log ( base e )\n",
    "print(np.log(arr)) "
   ]
  },
  {
   "cell_type": "code",
   "execution_count": 9,
   "metadata": {
    "ExecuteTime": {
     "end_time": "2022-06-13T17:42:23.931411Z",
     "start_time": "2022-06-13T17:42:23.928408Z"
    }
   },
   "outputs": [
    {
     "name": "stdout",
     "output_type": "stream",
     "text": [
      "[[-0.0115164  -1.57235142 -0.3915744  -1.70329138 -1.8161981 ]\n",
      " [-1.6292509  -2.13234869 -1.56494848 -0.45468735 -0.24584092]\n",
      " [-0.6005368  -1.10422149 -0.03717537 -0.438442   -0.8905246 ]\n",
      " [-0.19569048 -1.11334046 -0.27201362 -1.54426897 -0.2199187 ]\n",
      " [-3.26111547 -1.11838698 -3.84458616 -2.39796658 -1.66672246]]\n"
     ]
    }
   ],
   "source": [
    "# base 2\n",
    "print(np.log2(arr))     "
   ]
  },
  {
   "cell_type": "code",
   "execution_count": 10,
   "metadata": {
    "ExecuteTime": {
     "end_time": "2022-06-13T17:42:25.776911Z",
     "start_time": "2022-06-13T17:42:25.774910Z"
    }
   },
   "outputs": [
    {
     "name": "stdout",
     "output_type": "stream",
     "text": [
      "[[-0.00346678 -0.47332494 -0.11787564 -0.5127418  -0.54673011]\n",
      " [-0.49045339 -0.64190092 -0.47109643 -0.13687453 -0.07400549]\n",
      " [-0.18077959 -0.33240379 -0.0111909  -0.13198419 -0.26807462]\n",
      " [-0.0589087  -0.33514887 -0.08188426 -0.46487128 -0.06620212]\n",
      " [-0.98169357 -0.33666803 -1.15733575 -0.72185987 -0.50173346]]\n"
     ]
    }
   ],
   "source": [
    "# base 10\n",
    "print(np.log10(arr))    "
   ]
  },
  {
   "cell_type": "markdown",
   "metadata": {},
   "source": [
    "### element-wise square root"
   ]
  },
  {
   "cell_type": "code",
   "execution_count": 11,
   "metadata": {
    "ExecuteTime": {
     "end_time": "2022-06-13T17:42:32.733565Z",
     "start_time": "2022-06-13T17:42:32.729566Z"
    }
   },
   "outputs": [
    {
     "name": "stdout",
     "output_type": "stream",
     "text": [
      "[[0.99601667 0.5798792  0.87309636 0.55415225 0.53288678]\n",
      " [0.56855608 0.47758375 0.58136888 0.85420623 0.91832679]\n",
      " [0.8121013  0.68202156 0.98719864 0.85902915 0.73445077]\n",
      " [0.93442758 0.67986951 0.91003453 0.5855505  0.92661417]\n",
      " [0.32296333 0.67868146 0.26383483 0.43558214 0.56122017]]\n"
     ]
    }
   ],
   "source": [
    "print(np.sqrt(arr))"
   ]
  },
  {
   "cell_type": "markdown",
   "metadata": {},
   "source": [
    "### element-wise sine and cosine"
   ]
  },
  {
   "cell_type": "code",
   "execution_count": 12,
   "metadata": {
    "ExecuteTime": {
     "end_time": "2022-06-13T17:42:34.772085Z",
     "start_time": "2022-06-13T17:42:34.767084Z"
    }
   },
   "outputs": [
    {
     "name": "stdout",
     "output_type": "stream",
     "text": [
      "[[0.83714861 0.32995876 0.69058476 0.30228102 0.28016724]\n",
      " [0.31765561 0.22611374 0.33159127 0.66662241 0.74685771]\n",
      " [0.61272851 0.44855992 0.82745554 0.67275864 0.51363666]\n",
      " [0.7663595  0.44593853 0.73669027 0.33619085 0.75693744]\n",
      " [0.10411628 0.4444933  0.06955262 0.18859552 0.30978612]]\n"
     ]
    }
   ],
   "source": [
    "print(np.sin(arr))"
   ]
  },
  {
   "cell_type": "code",
   "execution_count": 13,
   "metadata": {
    "ExecuteTime": {
     "end_time": "2022-06-13T17:42:35.711387Z",
     "start_time": "2022-06-13T17:42:35.708385Z"
    },
    "scrolled": true
   },
   "outputs": [
    {
     "name": "stdout",
     "output_type": "stream",
     "text": [
      "[[0.54697551 0.94399535 0.72325147 0.95321885 0.95995121]\n",
      " [0.94820616 0.97410091 0.94342314 0.74539557 0.66498388]\n",
      " [0.79029347 0.89375276 0.56153123 0.73986202 0.8580078 ]\n",
      " [0.64241196 0.89506359 0.67623032 0.94179388 0.65348735]\n",
      " [0.99456513 0.89578218 0.99757828 0.98205485 0.95080627]]\n"
     ]
    }
   ],
   "source": [
    "print(np.cos(arr))"
   ]
  },
  {
   "cell_type": "markdown",
   "metadata": {},
   "source": [
    "### sum along a specified axis"
   ]
  },
  {
   "cell_type": "code",
   "execution_count": 14,
   "metadata": {
    "ExecuteTime": {
     "end_time": "2022-06-13T17:42:42.775540Z",
     "start_time": "2022-06-13T17:42:42.773539Z"
    }
   },
   "outputs": [
    {
     "name": "stdout",
     "output_type": "stream",
     "text": [
      "[2.95227396 1.95233061 2.97261985 2.30728529 2.84029226]\n"
     ]
    }
   ],
   "source": [
    "# sum along the row\n",
    "print(np.sum(arr, axis=0))    "
   ]
  },
  {
   "cell_type": "code",
   "execution_count": 15,
   "metadata": {
    "ExecuteTime": {
     "end_time": "2022-06-13T17:42:47.791840Z",
     "start_time": "2022-06-13T17:42:47.789836Z"
    }
   },
   "outputs": [
    {
     "name": "stdout",
     "output_type": "stream",
     "text": [
      "[2.6816594  2.46232441 3.37657211 3.36502351 1.13922254]\n"
     ]
    }
   ],
   "source": [
    "# sum along the column\n",
    "print(np.sum(arr, axis=1))    "
   ]
  },
  {
   "cell_type": "code",
   "execution_count": 16,
   "metadata": {
    "ExecuteTime": {
     "end_time": "2022-06-13T17:42:51.386653Z",
     "start_time": "2022-06-13T17:42:51.383651Z"
    }
   },
   "outputs": [
    {
     "name": "stdout",
     "output_type": "stream",
     "text": [
      "13.02480196454599\n"
     ]
    }
   ],
   "source": [
    "print(np.sum(arr))"
   ]
  },
  {
   "cell_type": "markdown",
   "metadata": {},
   "source": [
    "### compute the min and max along a specified axis"
   ]
  },
  {
   "cell_type": "code",
   "execution_count": 17,
   "metadata": {
    "ExecuteTime": {
     "end_time": "2022-06-13T17:42:57.500339Z",
     "start_time": "2022-06-13T17:42:57.496339Z"
    }
   },
   "outputs": [
    {
     "name": "stdout",
     "output_type": "stream",
     "text": [
      "[0.10430531 0.22808624 0.06960882 0.1897318  0.28396832]\n"
     ]
    }
   ],
   "source": [
    "# calculate min along the row\n",
    "print(np.min(arr, axis=0))"
   ]
  },
  {
   "cell_type": "code",
   "execution_count": 18,
   "metadata": {
    "ExecuteTime": {
     "end_time": "2022-06-13T17:43:02.217186Z",
     "start_time": "2022-06-13T17:43:02.215182Z"
    }
   },
   "outputs": [
    {
     "name": "stdout",
     "output_type": "stream",
     "text": [
      "[0.99204921 0.8433241  0.97456116 0.8731549  0.46060853]\n"
     ]
    }
   ],
   "source": [
    "# calculate max along the column\n",
    "print(np.max(arr, axis=1))    "
   ]
  },
  {
   "cell_type": "code",
   "execution_count": 19,
   "metadata": {
    "ExecuteTime": {
     "end_time": "2022-06-13T17:43:07.756744Z",
     "start_time": "2022-06-13T17:43:07.753747Z"
    }
   },
   "outputs": [
    {
     "name": "stdout",
     "output_type": "stream",
     "text": [
      "0.9920492134315917\n",
      "0.06960881582035172\n"
     ]
    }
   ],
   "source": [
    "# if axis not specified, calculate the max/min value of all elements\n",
    "print(np.max(arr))\n",
    "print(np.min(arr))"
   ]
  },
  {
   "cell_type": "markdown",
   "metadata": {},
   "source": [
    "### compute the indices of the min and max along a specified axis"
   ]
  },
  {
   "cell_type": "code",
   "execution_count": 20,
   "metadata": {
    "ExecuteTime": {
     "end_time": "2022-06-13T17:43:10.634053Z",
     "start_time": "2022-06-13T17:43:10.628053Z"
    }
   },
   "outputs": [
    {
     "data": {
      "text/plain": [
       "array([[0.99204921, 0.33625988, 0.76229726, 0.30708472, 0.28396832],\n",
       "       [0.32325601, 0.22808624, 0.33798978, 0.72966829, 0.8433241 ],\n",
       "       [0.65950852, 0.46515341, 0.97456116, 0.73793109, 0.53941794],\n",
       "       [0.8731549 , 0.46222255, 0.82816284, 0.34286939, 0.85861382],\n",
       "       [0.10430531, 0.46060853, 0.06960882, 0.1897318 , 0.31496808]])"
      ]
     },
     "execution_count": 20,
     "metadata": {},
     "output_type": "execute_result"
    }
   ],
   "source": [
    "arr"
   ]
  },
  {
   "cell_type": "code",
   "execution_count": 21,
   "metadata": {
    "ExecuteTime": {
     "end_time": "2022-06-04T12:35:14.319273Z",
     "start_time": "2022-06-04T12:35:14.310273Z"
    }
   },
   "outputs": [
    {
     "name": "stdout",
     "output_type": "stream",
     "text": [
      "[4 1 4 4 0]\n",
      "\n",
      "[0 2 2 2 3]\n"
     ]
    }
   ],
   "source": [
    "# along the row\n",
    "print(np.argmin(arr, axis=0))\n",
    "print()\n",
    "print(np.argmax(arr, axis=0))"
   ]
  },
  {
   "cell_type": "code",
   "execution_count": 22,
   "metadata": {
    "ExecuteTime": {
     "end_time": "2022-02-12T19:25:37.190664Z",
     "start_time": "2022-02-12T19:25:37.185665Z"
    }
   },
   "outputs": [
    {
     "name": "stdout",
     "output_type": "stream",
     "text": [
      "[2 1 2 1 2]\n",
      "[4 3 4 4 1]\n"
     ]
    }
   ],
   "source": [
    "# along the column\n",
    "print(np.argmin(arr, axis=1))\n",
    "print(np.argmax(arr, axis=1))"
   ]
  },
  {
   "cell_type": "code",
   "execution_count": 22,
   "metadata": {
    "ExecuteTime": {
     "end_time": "2022-06-13T17:43:14.302154Z",
     "start_time": "2022-06-13T17:43:14.299152Z"
    },
    "scrolled": true
   },
   "outputs": [
    {
     "name": "stdout",
     "output_type": "stream",
     "text": [
      "19\n",
      "18\n"
     ]
    }
   ],
   "source": [
    "# if axis not specified, return the index of the flattened array\n",
    "print(np.argmin(arr))\n",
    "print(np.argmax(arr))"
   ]
  },
  {
   "cell_type": "code",
   "execution_count": 21,
   "metadata": {
    "ExecuteTime": {
     "end_time": "2022-02-18T11:48:54.030953Z",
     "start_time": "2022-02-18T11:48:54.020954Z"
    }
   },
   "outputs": [
    {
     "data": {
      "text/plain": [
       "array([[0.26762104, 0.32633307, 0.38717747, 0.66373861, 0.37342205],\n",
       "       [0.0612703 , 0.86632095, 0.66903482, 0.32633167, 0.21112867],\n",
       "       [0.78140627, 0.64216104, 0.21016427, 0.014947  , 0.95493328],\n",
       "       [0.44526838, 0.02785064, 0.50920261, 0.11466006, 0.89699822],\n",
       "       [0.32762645, 0.09038554, 0.04149125, 0.58866664, 0.66182221]])"
      ]
     },
     "execution_count": 21,
     "metadata": {},
     "output_type": "execute_result"
    }
   ],
   "source": [
    "arr"
   ]
  },
  {
   "cell_type": "markdown",
   "metadata": {},
   "source": [
    "### compute element-wise min and max of two arrays"
   ]
  },
  {
   "cell_type": "code",
   "execution_count": 24,
   "metadata": {
    "ExecuteTime": {
     "end_time": "2022-06-13T17:43:56.165095Z",
     "start_time": "2022-06-13T17:43:56.161090Z"
    }
   },
   "outputs": [
    {
     "name": "stdout",
     "output_type": "stream",
     "text": [
      "[1 4 5 8 9]\n",
      "\n",
      "[0 3 3 7 7]\n"
     ]
    }
   ],
   "source": [
    "arr1 = np.array([1, 3, 5, 7, 9])\n",
    "arr2 = np.array([0, 4, 3, 8, 7])\n",
    "print(np.maximum(arr1, arr2))\n",
    "print()\n",
    "print(np.minimum(arr1, arr2))"
   ]
  },
  {
   "cell_type": "markdown",
   "metadata": {},
   "source": [
    "### split fractional and integral parts of a floating-point array"
   ]
  },
  {
   "cell_type": "code",
   "execution_count": 26,
   "metadata": {
    "ExecuteTime": {
     "end_time": "2021-09-18T10:47:43.047337Z",
     "start_time": "2021-09-18T10:47:43.028388Z"
    },
    "scrolled": false
   },
   "outputs": [
    {
     "name": "stdout",
     "output_type": "stream",
     "text": [
      "6.666666666666667\n",
      "['6', '666666666666667']\n",
      "fraction = 666666666666667\n",
      "666666666666667\n",
      "6\n"
     ]
    }
   ],
   "source": [
    "print(20 / 3)\n",
    "x = 20/3\n",
    "x = str(x)\n",
    "print(x.split(\".\"))\n",
    "anas = x.split(\".\")[1]\n",
    "print(f\"fraction = {anas}\")\n",
    "x = int(x[2:])\n",
    "\n",
    "print(x)\n",
    "print (20 // 3)"
   ]
  },
  {
   "cell_type": "code",
   "execution_count": 27,
   "metadata": {
    "ExecuteTime": {
     "end_time": "2021-09-18T10:48:41.094034Z",
     "start_time": "2021-09-18T10:48:41.076082Z"
    }
   },
   "outputs": [
    {
     "name": "stdout",
     "output_type": "stream",
     "text": [
      "0.666666666666667\n",
      "666666666666667\n"
     ]
    }
   ],
   "source": [
    "y= ((20/3)-(20 // 3))\n",
    "print(y)\n",
    "x = (len(str((20/3)-(20 // 3)))-2)\n",
    "print(int((10**x) * y))"
   ]
  },
  {
   "cell_type": "code",
   "execution_count": 28,
   "metadata": {
    "ExecuteTime": {
     "end_time": "2021-09-18T10:48:59.052720Z",
     "start_time": "2021-09-18T10:48:59.042748Z"
    }
   },
   "outputs": [
    {
     "data": {
      "text/plain": [
       "2"
      ]
     },
     "execution_count": 28,
     "metadata": {},
     "output_type": "execute_result"
    }
   ],
   "source": [
    "20 % 3"
   ]
  },
  {
   "cell_type": "code",
   "execution_count": 26,
   "metadata": {
    "ExecuteTime": {
     "end_time": "2022-02-12T19:27:56.594728Z",
     "start_time": "2022-02-12T19:27:56.586729Z"
    }
   },
   "outputs": [
    {
     "name": "stdout",
     "output_type": "stream",
     "text": [
      "[9.98334473 2.96717368 0.7977923  5.10874603 1.69011241 6.60565561\n",
      " 7.45315441 3.87432335 4.86616336 5.83444669]\n",
      "\n",
      "fractional:  [0.98334473 0.96717368 0.7977923  0.10874603 0.69011241 0.60565561\n",
      " 0.45315441 0.87432335 0.86616336 0.83444669]\n",
      "integral:  [9. 2. 0. 5. 1. 6. 7. 3. 4. 5.]\n"
     ]
    }
   ],
   "source": [
    "arr1 = np.random.rand(10) * 10\n",
    "\n",
    "print(arr1)\n",
    "print()\n",
    "re, intg = np.modf(arr1)\n",
    "print('fractional: ', re)\n",
    "print('integral: ', intg)"
   ]
  },
  {
   "cell_type": "code",
   "execution_count": 24,
   "metadata": {
    "ExecuteTime": {
     "end_time": "2021-09-30T11:53:00.924261Z",
     "start_time": "2021-09-30T11:53:00.911294Z"
    }
   },
   "outputs": [
    {
     "name": "stdout",
     "output_type": "stream",
     "text": [
      "0.23\n",
      "1\n"
     ]
    }
   ],
   "source": [
    "newarr = np.array([1.23,])\n",
    "re , intg  = np.modf(newarr)\n",
    "\n",
    "# rounding the number to get the accurate reuslt\n",
    "fraction = round(float(re), 2)\n",
    "integer = int(intg)\n",
    "print(fraction)\n",
    "print(integer)"
   ]
  },
  {
   "cell_type": "markdown",
   "metadata": {},
   "source": [
    "### compute the mean"
   ]
  },
  {
   "cell_type": "code",
   "execution_count": 25,
   "metadata": {
    "ExecuteTime": {
     "end_time": "2022-06-13T17:44:04.127338Z",
     "start_time": "2022-06-13T17:44:04.124336Z"
    }
   },
   "outputs": [
    {
     "name": "stdout",
     "output_type": "stream",
     "text": [
      "0.4609243847231879\n"
     ]
    }
   ],
   "source": [
    "# compute the overall mean\n",
    "print(np.mean(arr))"
   ]
  },
  {
   "cell_type": "code",
   "execution_count": 26,
   "metadata": {
    "ExecuteTime": {
     "end_time": "2022-06-13T17:44:09.142203Z",
     "start_time": "2022-06-13T17:44:09.139200Z"
    }
   },
   "outputs": [
    {
     "name": "stdout",
     "output_type": "stream",
     "text": [
      "[0.38954095 0.33167975 0.41595967 0.70103912 0.46640243]\n"
     ]
    }
   ],
   "source": [
    "# compute the mean along the row\n",
    "print(np.mean(arr, axis=0))   "
   ]
  },
  {
   "cell_type": "code",
   "execution_count": 27,
   "metadata": {
    "ExecuteTime": {
     "end_time": "2022-06-13T17:44:11.480410Z",
     "start_time": "2022-06-13T17:44:11.477409Z"
    }
   },
   "outputs": [
    {
     "name": "stdout",
     "output_type": "stream",
     "text": [
      "[0.36434456 0.37281029 0.51851523 0.42782468 0.62112715]\n"
     ]
    }
   ],
   "source": [
    "# compute the mean along the column\n",
    "print(np.mean(arr, axis=1)) "
   ]
  },
  {
   "cell_type": "markdown",
   "metadata": {},
   "source": [
    "### compute the median"
   ]
  },
  {
   "cell_type": "code",
   "execution_count": 28,
   "metadata": {
    "ExecuteTime": {
     "end_time": "2022-06-13T17:44:16.669214Z",
     "start_time": "2022-06-13T17:44:16.666213Z"
    }
   },
   "outputs": [
    {
     "name": "stdout",
     "output_type": "stream",
     "text": [
      "7.0\n"
     ]
    }
   ],
   "source": [
    "# compute the overall median\n",
    "x = [1,2,4,6,7,8,9,12, 20]\n",
    "print(np.median(x))"
   ]
  },
  {
   "cell_type": "code",
   "execution_count": 29,
   "metadata": {
    "ExecuteTime": {
     "end_time": "2022-06-13T17:44:20.685152Z",
     "start_time": "2022-06-13T17:44:20.681151Z"
    }
   },
   "outputs": [
    {
     "name": "stdout",
     "output_type": "stream",
     "text": [
      "[0.30016114 0.335185   0.29645069 0.81802477 0.37011982]\n"
     ]
    }
   ],
   "source": [
    "# compute the median along the row\n",
    "print(np.median(arr, axis=0)) "
   ]
  },
  {
   "cell_type": "code",
   "execution_count": 30,
   "metadata": {
    "ExecuteTime": {
     "end_time": "2022-06-13T17:44:22.459404Z",
     "start_time": "2022-06-13T17:44:22.456403Z"
    }
   },
   "outputs": [
    {
     "name": "stdout",
     "output_type": "stream",
     "text": [
      "[0.29645069 0.37233157 0.41089286 0.28236902 0.81802477]\n"
     ]
    }
   ],
   "source": [
    "# compute the median along the column\n",
    "print(np.median(arr, axis=1))"
   ]
  },
  {
   "cell_type": "markdown",
   "metadata": {},
   "source": [
    "### compute the percentile"
   ]
  },
  {
   "cell_type": "code",
   "execution_count": 26,
   "metadata": {
    "ExecuteTime": {
     "end_time": "2022-06-04T12:35:43.208892Z",
     "start_time": "2022-06-04T12:35:43.192892Z"
    }
   },
   "outputs": [
    {
     "name": "stdout",
     "output_type": "stream",
     "text": [
      "[0.06324113 0.68166079 0.98234324]\n"
     ]
    }
   ],
   "source": [
    "arr1 = np.random.rand(100)\n",
    "# compute 5, 65, and 95 percentiles of the array\n",
    "print(np.percentile(arr1, [5, 65, 95]))"
   ]
  },
  {
   "cell_type": "markdown",
   "metadata": {},
   "source": [
    "### compute the standard deviation & variance"
   ]
  },
  {
   "cell_type": "code",
   "execution_count": 27,
   "metadata": {
    "ExecuteTime": {
     "end_time": "2022-06-04T12:35:46.321026Z",
     "start_time": "2022-06-04T12:35:46.318024Z"
    }
   },
   "outputs": [
    {
     "name": "stdout",
     "output_type": "stream",
     "text": [
      "0.31691421921254487\n"
     ]
    }
   ],
   "source": [
    "# compute the overall standard deviation\n",
    "print(np.std(arr))"
   ]
  },
  {
   "cell_type": "code",
   "execution_count": 28,
   "metadata": {
    "ExecuteTime": {
     "end_time": "2022-06-04T12:35:49.415449Z",
     "start_time": "2022-06-04T12:35:49.398449Z"
    }
   },
   "outputs": [
    {
     "name": "stdout",
     "output_type": "stream",
     "text": [
      "[0.40651498 0.22925625 0.24713125 0.37487395 0.16827072]\n"
     ]
    }
   ],
   "source": [
    "# compute the standard deviation along the row\n",
    "print(np.std(arr, axis=0))"
   ]
  },
  {
   "cell_type": "code",
   "execution_count": 29,
   "metadata": {
    "ExecuteTime": {
     "end_time": "2022-06-04T12:35:51.644516Z",
     "start_time": "2022-06-04T12:35:51.635519Z"
    }
   },
   "outputs": [
    {
     "name": "stdout",
     "output_type": "stream",
     "text": [
      "[0.24361673 0.31067439 0.19733453 0.36364029 0.34314561]\n"
     ]
    }
   ],
   "source": [
    "# compute the standard deviation along the column\n",
    "print(np.std(arr, axis=1))"
   ]
  },
  {
   "cell_type": "code",
   "execution_count": 30,
   "metadata": {
    "ExecuteTime": {
     "end_time": "2022-06-04T12:35:54.134032Z",
     "start_time": "2022-06-04T12:35:54.120032Z"
    }
   },
   "outputs": [
    {
     "name": "stdout",
     "output_type": "stream",
     "text": [
      "0.10043462233909695\n"
     ]
    }
   ],
   "source": [
    "# compute the overall variance\n",
    "print(np.var(arr))"
   ]
  },
  {
   "cell_type": "code",
   "execution_count": 31,
   "metadata": {
    "ExecuteTime": {
     "end_time": "2022-06-04T12:35:56.678693Z",
     "start_time": "2022-06-04T12:35:56.660694Z"
    }
   },
   "outputs": [
    {
     "name": "stdout",
     "output_type": "stream",
     "text": [
      "[0.16525443 0.05255843 0.06107385 0.14053048 0.02831504]\n"
     ]
    }
   ],
   "source": [
    "# compute the variance along the row\n",
    "print(np.var(arr, axis=0))"
   ]
  },
  {
   "cell_type": "code",
   "execution_count": 32,
   "metadata": {
    "ExecuteTime": {
     "end_time": "2022-06-04T12:35:58.710204Z",
     "start_time": "2022-06-04T12:35:58.705206Z"
    }
   },
   "outputs": [
    {
     "name": "stdout",
     "output_type": "stream",
     "text": [
      "[0.05934911 0.09651858 0.03894092 0.13223426 0.11774891]\n"
     ]
    }
   ],
   "source": [
    "# compute the variance along the column\n",
    "print(np.var(arr, axis=1))"
   ]
  },
  {
   "cell_type": "markdown",
   "metadata": {},
   "source": [
    "### compute the covariance & correlation"
   ]
  },
  {
   "cell_type": "code",
   "execution_count": 33,
   "metadata": {
    "ExecuteTime": {
     "end_time": "2022-06-04T12:36:34.119095Z",
     "start_time": "2022-06-04T12:36:34.103094Z"
    }
   },
   "outputs": [
    {
     "data": {
      "text/plain": [
       "array([[0.04064895, 0.89118294, 0.29135691, 0.81655582, 0.26134072,\n",
       "        0.36155554, 0.06299668, 0.758472  ],\n",
       "       [0.49546723, 0.76564698, 0.53060514, 0.19441138, 0.41685174,\n",
       "        0.60150772, 0.20362636, 0.44151339],\n",
       "       [0.16392179, 0.59051272, 0.64007483, 0.2882677 , 0.31123202,\n",
       "        0.30392522, 0.1715424 , 0.93755612],\n",
       "       [0.30653595, 0.86487783, 0.09504024, 0.93590822, 0.64106486,\n",
       "        0.81496541, 0.12099329, 0.49363603],\n",
       "       [0.20349274, 0.6386304 , 0.22040807, 0.78094032, 0.95823322,\n",
       "        0.63439705, 0.55598415, 0.18235264]])"
      ]
     },
     "execution_count": 33,
     "metadata": {},
     "output_type": "execute_result"
    }
   ],
   "source": [
    "arr = np.random.rand(5,8)\n",
    "arr"
   ]
  },
  {
   "cell_type": "code",
   "execution_count": 36,
   "metadata": {
    "ExecuteTime": {
     "end_time": "2022-02-18T11:56:56.110050Z",
     "start_time": "2022-02-18T11:56:56.059041Z"
    }
   },
   "outputs": [
    {
     "name": "stdout",
     "output_type": "stream",
     "text": [
      "[[ 0.08567154 -0.02817149  0.00271483 -0.0123241  -0.00098763]\n",
      " [-0.02817149  0.0827715   0.0595721   0.03377884  0.02593071]\n",
      " [ 0.00271483  0.0595721   0.07330257  0.04615029  0.01890943]\n",
      " [-0.0123241   0.03377884  0.04615029  0.08110026  0.02107597]\n",
      " [-0.00098763  0.02593071  0.01890943  0.02107597  0.02630454]]\n"
     ]
    }
   ],
   "source": [
    "print(np.cov(arr))"
   ]
  },
  {
   "cell_type": "code",
   "execution_count": 37,
   "metadata": {
    "ExecuteTime": {
     "end_time": "2022-02-18T11:56:57.981195Z",
     "start_time": "2022-02-18T11:56:57.971196Z"
    }
   },
   "outputs": [
    {
     "name": "stdout",
     "output_type": "stream",
     "text": [
      "[[ 1.         -0.31083632]\n",
      " [-0.31083632  1.        ]]\n"
     ]
    }
   ],
   "source": [
    "print(np.corrcoef(arr[:,0], arr[:,1]))"
   ]
  },
  {
   "cell_type": "markdown",
   "metadata": {},
   "source": [
    "### compute cumulative sum & product"
   ]
  },
  {
   "cell_type": "code",
   "execution_count": 39,
   "metadata": {
    "ExecuteTime": {
     "end_time": "2021-09-24T19:22:45.847615Z",
     "start_time": "2021-09-24T19:22:45.834649Z"
    }
   },
   "outputs": [
    {
     "ename": "SyntaxError",
     "evalue": "invalid syntax (<ipython-input-39-d4a9cd301553>, line 1)",
     "output_type": "error",
     "traceback": [
      "\u001b[1;36m  File \u001b[1;32m\"<ipython-input-39-d4a9cd301553>\"\u001b[1;36m, line \u001b[1;32m1\u001b[0m\n\u001b[1;33m    1 3 5 6 8 9\u001b[0m\n\u001b[1;37m      ^\u001b[0m\n\u001b[1;31mSyntaxError\u001b[0m\u001b[1;31m:\u001b[0m invalid syntax\n"
     ]
    }
   ],
   "source": [
    "       1 3 5 6 8 9\n",
    "csum = 1 4 9 15 23 32\n",
    "cpro = 1 3 15 90 720 ... "
   ]
  },
  {
   "cell_type": "code",
   "execution_count": 38,
   "metadata": {
    "ExecuteTime": {
     "end_time": "2022-02-18T11:57:02.126688Z",
     "start_time": "2022-02-18T11:57:02.109675Z"
    }
   },
   "outputs": [
    {
     "name": "stdout",
     "output_type": "stream",
     "text": [
      "[[0.07699789 0.52920376 0.7749342  0.88254456 0.67506679 0.57745162\n",
      "  0.10032377 0.58024666]\n",
      " [0.59347426 0.78172712 1.45870061 0.94270848 1.43247299 0.75375814\n",
      "  0.78049291 0.67714599]\n",
      " [1.09986086 1.17330089 2.3811652  1.39232364 2.00538267 0.95616065\n",
      "  1.35953669 0.69077561]\n",
      " [1.4647305  1.86065436 3.28595412 1.49693147 2.157208   1.29359436\n",
      "  1.92668225 0.86823552]\n",
      " [1.92426634 2.56012851 4.01952478 1.9937673  2.93777457 2.07162761\n",
      "  2.74670332 1.28881656]]\n"
     ]
    }
   ],
   "source": [
    "# calculate the cumulative sums along the row\n",
    "print(np.cumsum(arr, axis=0))    "
   ]
  },
  {
   "cell_type": "code",
   "execution_count": 39,
   "metadata": {
    "ExecuteTime": {
     "end_time": "2022-02-18T11:57:03.996973Z",
     "start_time": "2022-02-18T11:57:03.988973Z"
    }
   },
   "outputs": [
    {
     "name": "stdout",
     "output_type": "stream",
     "text": [
      "[[0.07699789 0.60620165 1.38113585 2.26368041 2.9387472  3.51619882\n",
      "  3.6165226  4.19676926]\n",
      " [0.51647637 0.76899973 1.45276614 1.51293005 2.27033626 2.44664277\n",
      "  3.12681191 3.22371123]\n",
      " [0.50638659 0.89796037 1.82042495 2.27004012 2.84294979 3.04535231\n",
      "  3.62439609 3.63802571]\n",
      " [0.36486965 1.05222312 1.95701205 2.06161987 2.2134452  2.55087891\n",
      "  3.11802447 3.29548439]\n",
      " [0.45953584 1.15900999 1.89258064 2.38941647 3.16998304 3.94801629\n",
      "  4.76803737 5.18861841]]\n"
     ]
    }
   ],
   "source": [
    "# calculate the cumulative sums along the column\n",
    "print(np.cumsum(arr, axis=1))    "
   ]
  },
  {
   "cell_type": "code",
   "execution_count": 40,
   "metadata": {
    "ExecuteTime": {
     "end_time": "2022-02-18T11:57:05.890977Z",
     "start_time": "2022-02-18T11:57:05.875976Z"
    }
   },
   "outputs": [
    {
     "name": "stdout",
     "output_type": "stream",
     "text": [
      "[[7.69978878e-02 5.29203763e-01 7.74934202e-01 8.82544559e-01\n",
      "  6.75066790e-01 5.77451620e-01 1.00323775e-01 5.80246662e-01]\n",
      " [3.97675900e-02 1.33636309e-01 5.29873976e-01 5.30973373e-02\n",
      "  5.11299774e-01 1.01808483e-01 6.82371348e-02 5.62255095e-02]\n",
      " [2.01377744e-02 5.23284738e-02 4.88789978e-01 2.38733681e-02\n",
      "  2.92928587e-01 2.06062932e-02 3.95122885e-02 7.66332348e-04]\n",
      " [7.34766265e-03 3.59681582e-02 4.42251759e-01 2.49734117e-03\n",
      "  4.44739793e-02 6.95325795e-03 2.24092189e-02 1.35993275e-04]\n",
      " [3.37651432e-03 2.51587968e-02 3.24422912e-01 1.24076856e-03\n",
      "  3.47149018e-02 5.40986586e-03 1.83760318e-02 5.71961928e-05]]\n"
     ]
    }
   ],
   "source": [
    "# calculate the cumulative product along the row\n",
    "print(np.cumprod(arr, axis=0))   "
   ]
  },
  {
   "cell_type": "code",
   "execution_count": 41,
   "metadata": {
    "ExecuteTime": {
     "end_time": "2022-02-18T11:57:07.656773Z",
     "start_time": "2022-02-18T11:57:07.649774Z"
    }
   },
   "outputs": [
    {
     "name": "stdout",
     "output_type": "stream",
     "text": [
      "[[7.69978878e-02 4.07475720e-02 3.15766872e-02 2.78678334e-02\n",
      "  1.88126489e-02 1.08633946e-02 1.08985675e-03 6.32385739e-04]\n",
      " [5.16476375e-01 1.30422346e-01 8.91784193e-02 5.36532299e-03\n",
      "  4.06372891e-03 7.16461884e-04 4.87315259e-04 4.72205193e-05]\n",
      " [5.06386594e-01 1.98287709e-01 1.82913390e-01 8.22406342e-02\n",
      "  4.71164550e-02 9.53648907e-03 5.52204469e-03 7.52633727e-05]\n",
      " [3.64869647e-01 2.50794419e-01 2.26916013e-01 2.37371911e-02\n",
      "  3.60390686e-03 1.21607966e-03 6.89694176e-04 1.22393071e-04]\n",
      " [4.59535838e-01 3.21433439e-01 2.35794138e-01 1.17150975e-01\n",
      "  9.14441359e-02 7.11465780e-02 5.83416937e-02 2.45374102e-02]]\n"
     ]
    }
   ],
   "source": [
    "# calculate the cumulative product along the column\n",
    "print(np.cumprod(arr, axis=1))  "
   ]
  },
  {
   "cell_type": "markdown",
   "metadata": {},
   "source": [
    "### element-wise comparison"
   ]
  },
  {
   "cell_type": "code",
   "execution_count": 42,
   "metadata": {
    "ExecuteTime": {
     "end_time": "2022-02-18T11:58:31.590941Z",
     "start_time": "2022-02-18T11:58:31.581942Z"
    }
   },
   "outputs": [],
   "source": [
    "arr1 = np.array([1,2,3,4,5])\n",
    "arr2 = np.array([5,4,3,2,1])"
   ]
  },
  {
   "cell_type": "code",
   "execution_count": 43,
   "metadata": {
    "ExecuteTime": {
     "end_time": "2022-02-18T11:58:33.122940Z",
     "start_time": "2022-02-18T11:58:33.117940Z"
    }
   },
   "outputs": [
    {
     "name": "stdout",
     "output_type": "stream",
     "text": [
      "[False False  True False False]\n",
      "[ True  True False False False]\n"
     ]
    }
   ],
   "source": [
    "# return an array of bools\n",
    "print(arr1 == arr2)    \n",
    "print(arr1 < 3)"
   ]
  },
  {
   "cell_type": "code",
   "execution_count": null,
   "metadata": {},
   "outputs": [],
   "source": []
  }
 ],
 "metadata": {
  "kernelspec": {
   "display_name": "Python 3 (ipykernel)",
   "language": "python",
   "name": "python3"
  },
  "language_info": {
   "codemirror_mode": {
    "name": "ipython",
    "version": 3
   },
   "file_extension": ".py",
   "mimetype": "text/x-python",
   "name": "python",
   "nbconvert_exporter": "python",
   "pygments_lexer": "ipython3",
   "version": "3.9.13"
  },
  "toc": {
   "base_numbering": 1,
   "nav_menu": {},
   "number_sections": true,
   "sideBar": true,
   "skip_h1_title": false,
   "title_cell": "Table of Contents",
   "title_sidebar": "Contents",
   "toc_cell": false,
   "toc_position": {},
   "toc_section_display": true,
   "toc_window_display": false
  },
  "varInspector": {
   "cols": {
    "lenName": 16,
    "lenType": 16,
    "lenVar": 40
   },
   "kernels_config": {
    "python": {
     "delete_cmd_postfix": "",
     "delete_cmd_prefix": "del ",
     "library": "var_list.py",
     "varRefreshCmd": "print(var_dic_list())"
    },
    "r": {
     "delete_cmd_postfix": ") ",
     "delete_cmd_prefix": "rm(",
     "library": "var_list.r",
     "varRefreshCmd": "cat(var_dic_list()) "
    }
   },
   "types_to_exclude": [
    "module",
    "function",
    "builtin_function_or_method",
    "instance",
    "_Feature"
   ],
   "window_display": false
  }
 },
 "nbformat": 4,
 "nbformat_minor": 2
}
